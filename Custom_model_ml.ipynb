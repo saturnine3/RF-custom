{
 "cells": [
  {
   "cell_type": "code",
   "execution_count": 59,
   "id": "cd3e07ba",
   "metadata": {},
   "outputs": [],
   "source": [
    "from pathlib import Path\n",
    "import matplotlib.pyplot as plt\n",
    "import numpy as np\n",
    "import pandas as pd\n",
    "import seaborn as sns\n",
    "from sklearn.feature_extraction.text import CountVectorizer\n",
    "from sklearn.pipeline import Pipeline\n",
    "from sklearn.linear_model import LogisticRegression\n",
    "from sklearn.ensemble import RandomForestClassifier\n",
    "from sklearn.base import BaseEstimator\n",
    "from sklearn.model_selection import cross_val_score\n",
    "from sklearn.model_selection import GridSearchCV, StratifiedKFold\n",
    "from sklearn.tree import DecisionTreeClassifier\n",
    "SEED = 12\n",
    "# sharper plots\n",
    "%config InlineBackend.figure_format = 'retina'"
   ]
  },
  {
   "cell_type": "code",
   "execution_count": 92,
   "id": "796f905a",
   "metadata": {},
   "outputs": [],
   "source": [
    "from sklearn.base import BaseEstimator\n",
    "from sklearn.model_selection import cross_val_score\n",
    "\n",
    "\n",
    "class RandomForestClassifierCustom(BaseEstimator):\n",
    "    def __init__(\n",
    "        self, n_estimators=10, max_depth=10, max_features=10, random_state=SEED\n",
    "    ):\n",
    "        self.n_estimators = n_estimators\n",
    "        self.max_depth = max_depth\n",
    "        self.max_features = max_features\n",
    "        self.random_state = random_state\n",
    "\n",
    "        self.trees = []\n",
    "        self.feat_ids_by_tree = []\n",
    "\n",
    "    def fit(self, X, y):\n",
    "        self.classes_ = sorted(np.unique(y))\n",
    "        \n",
    "        for i in range(self.n_estimators):\n",
    "\n",
    "            np.random.seed(self.random_state + i)\n",
    "            feat_to_use_ids = np.random.choice(\n",
    "                range(X.shape[1]), self.max_features, replace=False\n",
    "            )\n",
    "            examples_to_use = list(\n",
    "                set(np.random.choice(range(X.shape[0]), X.shape[0], replace=True))\n",
    "            )\n",
    "\n",
    "            self.feat_ids_by_tree.append(feat_to_use_ids)\n",
    "\n",
    "            dt = DecisionTreeClassifier(\n",
    "                max_depth=self.max_depth,\n",
    "                max_features=self.max_features,\n",
    "                random_state=self.random_state,\n",
    "            )\n",
    "\n",
    "            dt.fit(X[examples_to_use, :][:, feat_to_use_ids], y[examples_to_use])\n",
    "            self.trees.append(dt)\n",
    "        return self\n",
    "\n",
    "    def predict_proba(self, X):\n",
    "        predictions = []\n",
    "        for i in range(self.n_estimators):\n",
    "            feat_to_use_ids = self.feat_ids_by_tree[i]\n",
    "            predictions.append(self.trees[i].predict_proba(X[:, feat_to_use_ids]))\n",
    "        return np.mean(predictions, axis=0)\n",
    "    \n",
    "    def predict(self, X):\n",
    "        predictions = []\n",
    "        for i in range(self.n_estimators):\n",
    "            feat_to_use_ids = self.feat_ids_by_tree[i]\n",
    "            predictions.append(self.trees[i].predict(X[:, feat_to_use_ids]))\n",
    "        return np.mean(predictions, axis=0)"
   ]
  },
  {
   "cell_type": "code",
   "execution_count": 61,
   "id": "347c8024",
   "metadata": {},
   "outputs": [],
   "source": [
    "PATH_TO_DATA = Path(\"C:/Users/Sangua Terra/Downloads/mlcourse_ai_bonus_assignments/mlcourse_ai_bonus_jupyter_book/_static/data/assignment5/\")\n",
    "data = pd.read_csv(PATH_TO_DATA / \"credit_scoring_sample.csv.zip\", sep=\";\")"
   ]
  },
  {
   "cell_type": "code",
   "execution_count": 62,
   "id": "587b9272",
   "metadata": {},
   "outputs": [],
   "source": [
    "def fillna_median(df):\n",
    "    for i in df.columns:\n",
    "        df[i] = df[i].fillna(df[i].median())\n",
    "    return df"
   ]
  },
  {
   "cell_type": "code",
   "execution_count": 63,
   "id": "ba3957da",
   "metadata": {},
   "outputs": [],
   "source": [
    "table = fillna_median(data)"
   ]
  },
  {
   "cell_type": "code",
   "execution_count": 82,
   "id": "7340b939",
   "metadata": {},
   "outputs": [],
   "source": [
    "independent_columns_names = data.columns.values\n",
    "independent_columns_names = [x for x in data if x != \"SeriousDlqin2yrs\"]\n",
    "X = table[independent_columns_names]\n",
    "y = table[\"SeriousDlqin2yrs\"]\n",
    "index = int(0.8 * X.shape[0])\n",
    "X_train = X[:index]\n",
    "y_train = y[:index]\n",
    "X_test = X[index:]\n",
    "y_test = y[index:]"
   ]
  },
  {
   "cell_type": "code",
   "execution_count": 86,
   "id": "56e4a108",
   "metadata": {},
   "outputs": [
    {
     "data": {
      "text/plain": [
       "(9013,)"
      ]
     },
     "execution_count": 86,
     "metadata": {},
     "output_type": "execute_result"
    }
   ],
   "source": [
    "y_test.shape"
   ]
  },
  {
   "cell_type": "code",
   "execution_count": 93,
   "id": "19c35f28",
   "metadata": {},
   "outputs": [
    {
     "name": "stdout",
     "output_type": "stream",
     "text": [
      "CPU times: total: 969 ms\n",
      "Wall time: 990 ms\n"
     ]
    }
   ],
   "source": [
    "%%time\n",
    "rfc = RandomForestClassifierCustom(max_depth=7, max_features=6)\n",
    "rfc.fit(X.values,y.values)\n",
    "y_pred = rfc.predict(X_test.values)\n"
   ]
  },
  {
   "cell_type": "code",
   "execution_count": 94,
   "id": "a3711497",
   "metadata": {},
   "outputs": [
    {
     "data": {
      "text/plain": [
       "array([0.9, 0.8, 0. , ..., 0. , 0. , 0.6])"
      ]
     },
     "execution_count": 94,
     "metadata": {},
     "output_type": "execute_result"
    }
   ],
   "source": [
    "y_pred"
   ]
  },
  {
   "cell_type": "code",
   "execution_count": 95,
   "id": "5c2e6c8e",
   "metadata": {},
   "outputs": [],
   "source": [
    "from sklearn.metrics import roc_auc_score"
   ]
  },
  {
   "cell_type": "code",
   "execution_count": 96,
   "id": "15c011b5",
   "metadata": {},
   "outputs": [
    {
     "data": {
      "text/plain": [
       "0.7642221633807056"
      ]
     },
     "execution_count": 96,
     "metadata": {},
     "output_type": "execute_result"
    }
   ],
   "source": [
    "roc_auc_score(y_test,y_pred)"
   ]
  },
  {
   "cell_type": "code",
   "execution_count": null,
   "id": "e422a971",
   "metadata": {},
   "outputs": [],
   "source": []
  }
 ],
 "metadata": {
  "kernelspec": {
   "display_name": "Python 3 (ipykernel)",
   "language": "python",
   "name": "python3"
  },
  "language_info": {
   "codemirror_mode": {
    "name": "ipython",
    "version": 3
   },
   "file_extension": ".py",
   "mimetype": "text/x-python",
   "name": "python",
   "nbconvert_exporter": "python",
   "pygments_lexer": "ipython3",
   "version": "3.11.5"
  }
 },
 "nbformat": 4,
 "nbformat_minor": 5
}
